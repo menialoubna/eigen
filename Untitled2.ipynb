{
  "nbformat": 4,
  "nbformat_minor": 0,
  "metadata": {
    "colab": {
      "name": "Untitled2.ipynb",
      "provenance": [],
      "authorship_tag": "ABX9TyPS2ZVaaka7rzbAqFOtHl+A",
      "include_colab_link": true
    },
    "kernelspec": {
      "name": "python3",
      "display_name": "Python 3"
    }
  },
  "cells": [
    {
      "cell_type": "markdown",
      "metadata": {
        "id": "view-in-github",
        "colab_type": "text"
      },
      "source": [
        "<a href=\"https://colab.research.google.com/github/menialoubna/eigen/blob/main/Untitled2.ipynb\" target=\"_parent\"><img src=\"https://colab.research.google.com/assets/colab-badge.svg\" alt=\"Open In Colab\"/></a>"
      ]
    },
    {
      "cell_type": "code",
      "metadata": {
        "colab": {
          "base_uri": "https://localhost:8080/"
        },
        "id": "VRysIhwEw_nS",
        "outputId": "bc2c900a-7596-4188-d026-0002d2b1abec"
      },
      "source": [
        "from numpy import array\r\n",
        "from numpy.linalg import eig\r\n",
        "x= array([[8,5,3,4],\r\n",
        "          [1,3,2,7],\r\n",
        "          [9,4,2,3],\r\n",
        "          [7,4,5,2]])\r\n",
        "values,vectors = eig(x)\r\n",
        "print(values)\r\n",
        "print(vectors)"
      ],
      "execution_count": 2,
      "outputs": [
        {
          "output_type": "stream",
          "text": [
            "[17.54248871+0.j         -0.32554293+2.06497838j -0.32554293-2.06497838j\n",
            " -1.89140286+0.j        ]\n",
            "[[ 0.57123362+0.j         -0.1860187 -0.18001994j -0.1860187 +0.18001994j\n",
            "   0.20509205+0.j        ]\n",
            " [ 0.36098066+0.j          0.81216685+0.j          0.81216685-0.j\n",
            "  -0.80355714+0.j        ]\n",
            " [ 0.52379354+0.j         -0.37870953+0.02876663j -0.37870953-0.02876663j\n",
            "  -0.07521194+0.j        ]\n",
            " [ 0.51867663+0.j         -0.25106542+0.25708481j -0.25106542-0.25708481j\n",
            "   0.55369336+0.j        ]]\n"
          ],
          "name": "stdout"
        }
      ]
    },
    {
      "cell_type": "code",
      "metadata": {
        "id": "dibdKXEPxAV8"
      },
      "source": [
        ""
      ],
      "execution_count": null,
      "outputs": []
    }
  ]
}