{
  "nbformat": 4,
  "nbformat_minor": 0,
  "metadata": {
    "colab": {
      "name": "Untitled2.ipynb",
      "provenance": [],
      "authorship_tag": "ABX9TyMwaPuVrtvnsD43RGbyfT0B",
      "include_colab_link": true
    },
    "kernelspec": {
      "name": "python3",
      "display_name": "Python 3"
    }
  },
  "cells": [
    {
      "cell_type": "markdown",
      "metadata": {
        "id": "view-in-github",
        "colab_type": "text"
      },
      "source": [
        "<a href=\"https://colab.research.google.com/github/menialoubna/eigen/blob/main/Untitled2.ipynb\" target=\"_parent\"><img src=\"https://colab.research.google.com/assets/colab-badge.svg\" alt=\"Open In Colab\"/></a>"
      ]
    },
    {
      "cell_type": "code",
      "metadata": {
        "colab": {
          "base_uri": "https://localhost:8080/"
        },
        "id": "VRysIhwEw_nS",
        "outputId": "28a8de21-5271-40aa-ea0d-56ead3a53aa4"
      },
      "source": [
        "from numpy import array\r\n",
        "from numpy.linalg import eig\r\n",
        "from numpy import diag\r\n",
        "from numpy.linalg import inv\r\n",
        "x= array([[1,2,3],\r\n",
        "          [4,5,6],\r\n",
        "          [7,8,9]])\r\n",
        "values,vectors = eig(x)\r\n",
        "print(values)\r\n",
        "print(vectors)\r\n",
        "#to verify if the eginevectors are true:\r\n",
        "#we refer to the 1st vector[:,0]:\r\n",
        "#B=x.dot(vectors[:,0])\r\n",
        "#c=values[0] * vectors[:,0]\r\n",
        "q=vectors\r\n",
        "r=inv(q)\r\n",
        "l=diag(values)\r\n",
        "B= q.dot(l).dot(r)\r\n",
        "print(B)"
      ],
      "execution_count": 20,
      "outputs": [
        {
          "output_type": "stream",
          "text": [
            "[ 1.61168440e+01 -1.11684397e+00 -9.75918483e-16]\n",
            "[[-0.23197069 -0.78583024  0.40824829]\n",
            " [-0.52532209 -0.08675134 -0.81649658]\n",
            " [-0.8186735   0.61232756  0.40824829]]\n",
            "[[1. 2. 3.]\n",
            " [4. 5. 6.]\n",
            " [7. 8. 9.]]\n"
          ],
          "name": "stdout"
        }
      ]
    },
    {
      "cell_type": "code",
      "metadata": {
        "id": "dibdKXEPxAV8"
      },
      "source": [
        ""
      ],
      "execution_count": null,
      "outputs": []
    }
  ]
}